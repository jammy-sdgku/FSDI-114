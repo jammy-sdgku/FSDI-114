{
 "cells": [
  {
   "cell_type": "markdown",
   "id": "1d1e0dd9",
   "metadata": {},
   "source": [
    "# Class 4 - Stacks and Queues\n",
    "\n",
    "## Stacks\n",
    "A stack is an ordered collection of elements where items are added and removed from one end , commonly referred to as the \"top\". The ordering principle is referred to as LIFO (Last in, First out)\n",
    "\n",
    "## Queues\n",
    "A queue is an ordered collection of elements where items are added and removed from **opposite** ends, commonly referred to as \"front\" and \"back\" or \"rear\" of the queue. The ordering principle is referred to as FIFO (First in, First out) or \"first come first served\".\n"
   ]
  },
  {
   "cell_type": "code",
   "execution_count": 5,
   "id": "15f907b1",
   "metadata": {},
   "outputs": [
    {
     "name": "stdout",
     "output_type": "stream",
     "text": [
      "40\n",
      "40\n",
      "2\n",
      "[30, 35]\n"
     ]
    }
   ],
   "source": [
    "class Stack:\n",
    "    def __init__(self):\n",
    "        self.items = []\n",
    "    \n",
    "    def is_empty(self):\n",
    "        return len(self.items) == 0\n",
    "    \n",
    "    def push(self, item):\n",
    "        self.items.append(item)\n",
    "    \n",
    "    def pop(self):\n",
    "        if not self.is_empty():\n",
    "            return self.items.pop()\n",
    "        else:\n",
    "            raise IndexError(\"pop from empty stack\")\n",
    "    \n",
    "    def peek(self):\n",
    "        return self.items[len(self.items) - 1]\n",
    "    \n",
    "    def size(self):\n",
    "        return len(self.items)\n",
    "    \n",
    "    def is_empty(self):\n",
    "        return self.items == []\n",
    "    \n",
    "stack = Stack()\n",
    "stack.push(30)\n",
    "stack.push(35)\n",
    "stack.push(40)\n",
    "print(stack.peek())\n",
    "print(stack.pop()) \n",
    "print(stack.size())\n",
    "print(stack.items)   \n"
   ]
  },
  {
   "cell_type": "code",
   "execution_count": 9,
   "id": "42d8cefe",
   "metadata": {},
   "outputs": [
    {
     "name": "stdout",
     "output_type": "stream",
     "text": [
      "James\n",
      "James\n",
      "2\n",
      "['Mary', 'John']\n"
     ]
    }
   ],
   "source": [
    "class Queue:\n",
    "    def __init__(self):\n",
    "        self.items = []\n",
    "    \n",
    "    def enqueue(self, item):\n",
    "        self.items.insert(0, item)\n",
    "    \n",
    "    def dequeue(self):\n",
    "        if not self.is_empty():\n",
    "            return self.items.pop()\n",
    "        else:\n",
    "            raise IndexError(\"dequeue from empty queue\")\n",
    "    \n",
    "    def peek(self):\n",
    "        return self.items[len(self.items) - 1]\n",
    "    \n",
    "    def size(self):\n",
    "        return len(self.items)\n",
    "    \n",
    "    def is_empty(self):\n",
    "        return self.items == []\n",
    "    \n",
    "queue = Queue()\n",
    "queue.enqueue(\"James\")\n",
    "queue.enqueue(\"John\")\n",
    "queue.enqueue(\"Mary\")\n",
    "print(queue.peek())\n",
    "print(queue.dequeue()) \n",
    "print(queue.size())\n",
    "print(queue.items)"
   ]
  },
  {
   "cell_type": "code",
   "execution_count": null,
   "id": "690bf3ad",
   "metadata": {},
   "outputs": [
    {
     "name": "stdout",
     "output_type": "stream",
     "text": [
      "30\n",
      "20\n",
      "10\n",
      "True\n"
     ]
    }
   ],
   "source": [
    "# custom stack class \n",
    "\n",
    "class Node:\n",
    "    def __init__(self, data):    # next is a pointer to the next node (link)\n",
    "        self.data = data\n",
    "        self.below = None\n",
    "\n",
    "class CustomStack:\n",
    "    def __init__(self):\n",
    "        self.top = None\n",
    "        \n",
    "    def push(self, data):\n",
    "        if self.top is None:\n",
    "            self.top = Node(data)\n",
    "        else:\n",
    "            new_node = Node(data)\n",
    "            new_node.below = self.top\n",
    "            self.top = new_node\n",
    "            \n",
    "    def pop(self):\n",
    "        if self.top is None:\n",
    "            raise IndexError(\"pop from empty stack\")\n",
    "        else:\n",
    "            popped_node = self.top\n",
    "            self.top = self.top.below\n",
    "            return popped_node.data\n",
    "        \n",
    "    def is_empty(self):\n",
    "        return self.top is None\n",
    "    \n",
    "CustomStack = CustomStack()\n",
    "CustomStack.push(10)\n",
    "CustomStack.push(20)\n",
    "CustomStack.push(30)                 \n",
    "print(CustomStack.pop())            # Output: 30\n",
    "print(CustomStack.pop())            # Output: 20\n",
    "print(CustomStack.pop())            # Output: 10\n",
    "print(CustomStack.is_empty())       # Output: True   "
   ]
  }
 ],
 "metadata": {
  "kernelspec": {
   "display_name": "Python 3",
   "language": "python",
   "name": "python3"
  },
  "language_info": {
   "codemirror_mode": {
    "name": "ipython",
    "version": 3
   },
   "file_extension": ".py",
   "mimetype": "text/x-python",
   "name": "python",
   "nbconvert_exporter": "python",
   "pygments_lexer": "ipython3",
   "version": "3.13.3"
  }
 },
 "nbformat": 4,
 "nbformat_minor": 5
}
