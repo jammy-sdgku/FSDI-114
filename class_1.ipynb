{
 "cells": [
  {
   "cell_type": "markdown",
   "id": "dc509c29",
   "metadata": {},
   "source": [
    "# FSDI 114 - Class 1\n",
    "\n",
    "## Subtitle\n",
    "\n",
    "### Another one"
   ]
  },
  {
   "cell_type": "code",
   "execution_count": 1,
   "id": "57e79120",
   "metadata": {},
   "outputs": [
    {
     "name": "stdout",
     "output_type": "stream",
     "text": [
      "Hello World\n",
      "21\n"
     ]
    }
   ],
   "source": [
    "print(\"Hello World\")\n",
    "\n",
    "x=10\n",
    "y=11\n",
    "print(x+y)"
   ]
  },
  {
   "cell_type": "code",
   "execution_count": 2,
   "id": "5be62532",
   "metadata": {},
   "outputs": [
    {
     "name": "stdout",
     "output_type": "stream",
     "text": [
      "10\n"
     ]
    }
   ],
   "source": [
    "def sum(x,y):\n",
    "    return x+y\n",
    "\n",
    "print(sum(5,5))"
   ]
  },
  {
   "cell_type": "markdown",
   "id": "188e28d2",
   "metadata": {},
   "source": [
    "AAA Approach (Assessment, Assembly, Action)\n",
    "\n",
    "*Assessment* : Ask meaningful questions to clarify the incorrect assumptions, edge cases we might have missed and specific criteria we do not know up front. \n",
    "*Assembly* : We want to design a solution by defining data structures, selecting or defining an algorithm and trying to solve the problem as optimally as possible.\n",
    "*Action* : code."
   ]
  },
  {
   "cell_type": "markdown",
   "id": "20821cb9",
   "metadata": {},
   "source": [
    "# Problem 1\n",
    "\n",
    "### Find the total of numbers from a collection of numbers that divided by 2 the module is 0\n",
    "\n",
    "```\n",
    "Examples:\n",
    "1.Given [3,4,10,15,999,2] Then the output should be: total=3\n",
    "2.Given [2,4,6,10,3,7] Then the output should be: total=4\n",
    "\n",
    "### Criteria\n",
    "1. Create a function that receives a collection and return an integer with the total\n",
    "\n",
    "### Hint\n",
    "- '%' is the arithmetic operand to get the module from division\n",
    "-2 % 2 = 0\n",
    "\n",
    "The collection of numbers is: numbers = [3,5,27,20,6,3.5,60]"
   ]
  },
  {
   "cell_type": "code",
   "execution_count": 24,
   "id": "ef01ee9f",
   "metadata": {},
   "outputs": [
    {
     "name": "stdout",
     "output_type": "stream",
     "text": [
      "3\n"
     ]
    }
   ],
   "source": [
    "collection = [3,5,27,20,6,3.5,60]\n",
    "count = 0\n",
    "#Create a function that receives a collection and return an integer with the total of numbers that divided by 2 the module is 0\n",
    "\n",
    "def count_even_numbers(collection):\n",
    "    count = 0   \n",
    "\n",
    "    for number in collection:\n",
    "            if (number % 2 == 0):\n",
    "                count += 1\n",
    "    return count\n",
    "\n",
    "print(count_even_numbers(collection))"
   ]
  }
 ],
 "metadata": {
  "kernelspec": {
   "display_name": "Python 3",
   "language": "python",
   "name": "python3"
  },
  "language_info": {
   "codemirror_mode": {
    "name": "ipython",
    "version": 3
   },
   "file_extension": ".py",
   "mimetype": "text/x-python",
   "name": "python",
   "nbconvert_exporter": "python",
   "pygments_lexer": "ipython3",
   "version": "3.13.3"
  }
 },
 "nbformat": 4,
 "nbformat_minor": 5
}
