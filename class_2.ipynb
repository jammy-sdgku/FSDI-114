{
 "cells": [
  {
   "cell_type": "markdown",
   "id": "67c139d0",
   "metadata": {},
   "source": [
    "# Class 2 - More problems , Big O Notation and Introduction to DSA"
   ]
  },
  {
   "cell_type": "markdown",
   "id": "8582d533",
   "metadata": {},
   "source": [
    "# Problem 1\n",
    "\n",
    "### Anagram check\n",
    "\n",
    "Create a function that takes two strings as parameters and returns True if they are anagrams of each other, False otherwise.\n",
    "```\n",
    "Examples:\n",
    "1. heart and earth\n",
    "2. scar and cars\n",
    "3. star and rats\n",
    "etc\n",
    "```\n",
    "### Criteria\n",
    "Two strings are anagrams of each other if and only if all the criteria below are met:\n",
    "≤1. They must use all the same characters\n",
    "≤2. They must be of exactly the same length (in characters)"
   ]
  },
  {
   "cell_type": "code",
   "execution_count": 13,
   "id": "a2427a24",
   "metadata": {},
   "outputs": [
    {
     "data": {
      "text/plain": [
       "True"
      ]
     },
     "execution_count": 13,
     "metadata": {},
     "output_type": "execute_result"
    }
   ],
   "source": [
    "#Create a function that takes two strings as parameters and returns True if they are anagrams of each other, False otherwise.\n",
    "\n",
    "def are_anagrams(str1, str2):\n",
    "    # Remove spaces and convert to lowercase\n",
    "    str1 = str1.replace(\" \", \"\").lower()\n",
    "    str2 = str2.replace(\" \", \"\").lower()\n",
    "    \n",
    "    # Sort the characters of both strings and compare\n",
    "    return sorted(str1) == sorted(str2) #sorted returns a list of characters\n",
    "\n",
    "are_anagrams('scar', 'cars')"
   ]
  },
  {
   "cell_type": "code",
   "execution_count": 17,
   "id": "803744cd",
   "metadata": {},
   "outputs": [
    {
     "data": {
      "text/plain": [
       "True"
      ]
     },
     "execution_count": 17,
     "metadata": {},
     "output_type": "execute_result"
    }
   ],
   "source": [
    "#Create a function that takes two strings as parameters and returns True if they are anagrams of each other, False otherwise.\n",
    "def are_anagrams(str1, str2): \n",
    "    str1 = str1.replace(\" \", \"\").lower()\n",
    "    str2 = str2.replace(\" \", \"\").lower()\n",
    "    \n",
    "    if len(str1) != len(str2):\n",
    "        return False    \n",
    "    else:\n",
    "        srt1 = set(str1)\n",
    "        srt2 = set(str2)\n",
    "        return srt1 == srt2\n",
    "are_anagrams('scar', 'cars')   "
   ]
  },
  {
   "cell_type": "code",
   "execution_count": 2,
   "id": "e0df8124",
   "metadata": {},
   "outputs": [
    {
     "data": {
      "text/plain": [
       "True"
      ]
     },
     "execution_count": 2,
     "metadata": {},
     "output_type": "execute_result"
    }
   ],
   "source": [
    "def check_anagrams(str1, str2):\n",
    "    str1 = str1.replace(\" \", \"\").lower()\n",
    "    str2 = str2.replace(\" \", \"\").lower()\n",
    "    \n",
    "    if len(str1) != len(str2):\n",
    "        return False    \n",
    "    else:\n",
    "        char_count = {}\n",
    "        \n",
    "        for char in str1:\n",
    "            char_count[char] = char_count.get(char, 0) + 1\n",
    "        \n",
    "        for char in str2:\n",
    "            if char in char_count:\n",
    "                char_count[char] -= 1\n",
    "                if char_count[char] < 0:\n",
    "                    return False\n",
    "            else:\n",
    "                return False\n",
    "        \n",
    "        return all(count == 0 for count in char_count.values())\n",
    "    \n",
    "check_anagrams('scar', 'cars')"
   ]
  }
 ],
 "metadata": {
  "kernelspec": {
   "display_name": "Python 3",
   "language": "python",
   "name": "python3"
  },
  "language_info": {
   "codemirror_mode": {
    "name": "ipython",
    "version": 3
   },
   "file_extension": ".py",
   "mimetype": "text/x-python",
   "name": "python",
   "nbconvert_exporter": "python",
   "pygments_lexer": "ipython3",
   "version": "3.13.3"
  }
 },
 "nbformat": 4,
 "nbformat_minor": 5
}
