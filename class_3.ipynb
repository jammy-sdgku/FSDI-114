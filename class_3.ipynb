{
 "cells": [
  {
   "cell_type": "markdown",
   "id": "32d762a0",
   "metadata": {},
   "source": [
    "# Class 3 - OOP Basics and DSA (Nodes and Lined List)"
   ]
  },
  {
   "cell_type": "markdown",
   "id": "690b9618",
   "metadata": {},
   "source": [
    "OOP - Object Oriented Programing \n",
    "Python is an object-oriented language, allowing you to structure your code using classes and objects for better orginazation and reusability.\n",
    "\n",
    "### Advantages:\n",
    "- Provides a clear structure to programs.\n",
    "- Makes code easier to maintain, reuse and debug.\n",
    "- Helps keep your code DRY (Do not repeat yourself).\n",
    "- Allows to build reusable applications with less code. "
   ]
  },
  {
   "cell_type": "markdown",
   "id": "7d278434",
   "metadata": {},
   "source": [
    "### Classes and Objects\n",
    "\n",
    "A class defines what an object should look like. An object is created based on that class.\n",
    "Example:\n",
    "Class -≥ Fruit\n",
    "objects -≥ Apple, Banana, Mango\n",
    "\n",
    "Class -≥ Car\n",
    "Object -≥ Audi, Ford, Chevy\n",
    "\n",
    "### The Four Pillars of OOP\n",
    "\n",
    ".Encapsulation\n",
    ".Abstraction\n",
    ".Inheritance\n",
    ".Polymorphism"
   ]
  },
  {
   "cell_type": "code",
   "execution_count": 2,
   "id": "f5c7f189",
   "metadata": {},
   "outputs": [
    {
     "name": "stdout",
     "output_type": "stream",
     "text": [
      "5\n"
     ]
    }
   ],
   "source": [
    "# Syntax\n",
    "# Reserved keyword 'class' + name of the class\n",
    "# Note: the name of the class should follow the Pascal Case notation\n",
    "\n",
    "# Constructor - is always executed when the class is being initiated\n",
    "# The self parameter is a reference to the current instance of the class, and is used to access variables that belong to the class.\n",
    "# It does not have to be named self , you can call it whatever you like, but it has to be the first parameter of any function in the class.\n",
    "\n",
    "class MyClass:\n",
    "    x = 5 \n",
    "    \n",
    "p1 = MyClass()\n",
    "print(p1.x)"
   ]
  },
  {
   "cell_type": "code",
   "execution_count": 1,
   "id": "9a2210cd",
   "metadata": {},
   "outputs": [
    {
     "name": "stdout",
     "output_type": "stream",
     "text": [
      "John\n",
      "36\n"
     ]
    }
   ],
   "source": [
    "class Person:\n",
    "   # Constructor - Executes when the class is being initiated \n",
    "    def __init__(self, name, age):\n",
    "        self.name = name\n",
    "        self.age = age \n",
    "             \n",
    "   #To string - returns the values of the object instead of memory location       \n",
    "    def __str__(self):\n",
    "        return f\"{self.name}({self.age})\"\n",
    "        \n",
    "p1 = Person(\"John\", 36)\n",
    "print(p1.name)\n",
    "print(p1.age)"
   ]
  },
  {
   "cell_type": "markdown",
   "id": "8d9bd79c",
   "metadata": {},
   "source": [
    "# Data Structures and Algorithms(DSA)\n",
    "\n",
    "Data Structures is about how data can be stored in different structures (accessing, searching, inserting, and deleting)\n",
    "\n",
    "Algorithms is about how to solve different problems, often by searching through and manipulating data structures. \n",
    "\n",
    "### Nodes and SLL (Single Linked Lists)\n",
    "\n",
    "Differences between Arrays and Link Lists\n",
    "1. We don't need to preallocate space\n",
    "2. Insertion is easy"
   ]
  },
  {
   "cell_type": "code",
   "execution_count": 7,
   "id": "9456d218",
   "metadata": {},
   "outputs": [
    {
     "name": "stdout",
     "output_type": "stream",
     "text": [
      "[298, 305, 320, 301, 292]\n",
      "[298, 284, 305, 320, 301, 292]\n"
     ]
    }
   ],
   "source": [
    "# arrays\n",
    "\n",
    "stock_prices = [298, 305, 320, 301, 292]\n",
    "\n",
    "print(stock_prices)\n",
    "\"\"\"\n",
    "[298] - 0x00500 - 0 (memory location)\n",
    "[305] - 0x00504 - 1 \n",
    "[320] - 0x00508 - 2\n",
    "[301] - 0x00512 - 3\n",
    "[292] - 0x00516 - 4\n",
    "\"\"\"\n",
    "\n",
    "stock_prices.insert(1, 284) # insert 284 at index 1\n",
    "\n",
    "#[298] - 0x00500 - 0 (memory location)\n",
    "#[284] - 0x00504 - 1 \n",
    "#[305] - 0x00508 - 2\n",
    "#[320] - 0x00512 - 3\n",
    "#[301] - 0x00516 - 4\n",
    "#[292] - 0x00520 - 5\n",
    "\n",
    "print(stock_prices)"
   ]
  },
  {
   "cell_type": "code",
   "execution_count": null,
   "id": "71816cd4",
   "metadata": {},
   "outputs": [
    {
     "name": "stdout",
     "output_type": "stream",
     "text": [
      "20 --> 298 --> 3 --> None\n",
      "3\n"
     ]
    }
   ],
   "source": [
    "# single link lists\n",
    "\n",
    "#node - [data | link]\n",
    "\n",
    "# head -> \n",
    "#0x00500              0x00504              0x00508            0x00512            0x00516       0x00520        \n",
    "# [298 | 0x00504] -> [284 | 0x00508] -> [305 | 0x00512] -> [320 | 0x00516] -> [301 | 0x00520] -> [292 | null]\n",
    "# Link lists just makes changes to the links, not the data itself of the two nodes involvedin the insertion.\n",
    "\n",
    "class Node:\n",
    "    def __init__(self, data, next): # next is a pointer to the next node (link)\n",
    "        self.data = data\n",
    "        self.next = next\n",
    "        \n",
    "class LinkedList:\n",
    "    def __init__(self):\n",
    "        self.head = None   \n",
    "        \n",
    "    def insert_at_beginning(self, data): # O(1) operation. To insert a node at the beginning of the linked list.\n",
    "        node = Node(data, self.head)\n",
    "        self.head = node \n",
    "        \n",
    "    def insert_at_end(self, data): # O(n) operation. To insert a node at the end of the linked list.\n",
    "        if self.head is None:\n",
    "            self.head = Node(data, None)\n",
    "            return \n",
    "        itr = self.head\n",
    "        while itr.next:\n",
    "            itr = itr.next\n",
    "        itr.next = Node(data, None)\n",
    "        \n",
    "        #TO DO: implement the logic\n",
    "        # check if the linked list is empty, if so print a message\n",
    "        # \"It's Empty\"otherwise iterate through the nodes and collect\n",
    "        # the data valuse in another variable and return it\n",
    "        # final output should look like: \"298 -> 20 -> 3 -> \"\n",
    "        \n",
    "    def print(self):            # used to print the linked list\n",
    "        if self.head is None:\n",
    "            print(\"Linked list is empty\")\n",
    "            return \n",
    "        current = self.head\n",
    "        llstr = ''\n",
    "        while current:\n",
    "            llstr += str(current.data) + ' --> '\n",
    "            current = current.next\n",
    "        print(llstr + 'None')\n",
    "        \n",
    "    def length(self):           # used to count the number of nodes in the linked list\n",
    "        count = 0\n",
    "        current = self.head\n",
    "        while current:\n",
    "            count += 1\n",
    "            current = current.next\n",
    "        return count\n",
    "        \n",
    "linked_list = LinkedList()\n",
    "linked_list.insert_at_beginning(298)\n",
    "linked_list.insert_at_beginning(20)\n",
    "linked_list.insert_at_end(3)\n",
    "linked_list.print()\n",
    "print(linked_list.length())"
   ]
  }
 ],
 "metadata": {
  "kernelspec": {
   "display_name": "Python 3",
   "language": "python",
   "name": "python3"
  },
  "language_info": {
   "codemirror_mode": {
    "name": "ipython",
    "version": 3
   },
   "file_extension": ".py",
   "mimetype": "text/x-python",
   "name": "python",
   "nbconvert_exporter": "python",
   "pygments_lexer": "ipython3",
   "version": "3.13.3"
  }
 },
 "nbformat": 4,
 "nbformat_minor": 5
}
